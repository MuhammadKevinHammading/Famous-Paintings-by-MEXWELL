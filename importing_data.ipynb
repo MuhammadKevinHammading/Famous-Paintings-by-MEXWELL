{
 "cells": [
  {
   "cell_type": "code",
   "execution_count": 1,
   "id": "cc7f996c",
   "metadata": {},
   "outputs": [],
   "source": [
    "import pandas as pd\n",
    "import pyodbc\n",
    "from sqlalchemy import create_engine"
   ]
  },
  {
   "cell_type": "code",
   "execution_count": 2,
   "id": "ac5c1a1d",
   "metadata": {},
   "outputs": [],
   "source": [
    "conn_string = 'mssql+pyodbc://DESKTOP-GLPNF43\\SQLEXPRESS/painting?driver=SQL+Server'\n",
    "engine = create_engine(conn_string)\n",
    "conn = engine.connect()"
   ]
  },
  {
   "cell_type": "code",
   "execution_count": 3,
   "id": "61a2918e",
   "metadata": {},
   "outputs": [],
   "source": [
    "files = ['artist', 'canvas_size', 'image_link', 'museum', 'museum_hours', 'product_size', 'subject', 'work']\n",
    "\n",
    "for file in files:\n",
    "    df=pd.read_csv(f'{file}.csv')\n",
    "    df.to_sql(file, con=conn, index=False)"
   ]
  },
  {
   "cell_type": "markdown",
   "id": "5ff69861",
   "metadata": {},
   "source": [
    "Done, importing 8 csv files to **Microsoft SQL Server** successfully"
   ]
  }
 ],
 "metadata": {
  "kernelspec": {
   "display_name": "Python 3 (ipykernel)",
   "language": "python",
   "name": "python3"
  },
  "language_info": {
   "codemirror_mode": {
    "name": "ipython",
    "version": 3
   },
   "file_extension": ".py",
   "mimetype": "text/x-python",
   "name": "python",
   "nbconvert_exporter": "python",
   "pygments_lexer": "ipython3",
   "version": "3.11.5"
  }
 },
 "nbformat": 4,
 "nbformat_minor": 5
}
